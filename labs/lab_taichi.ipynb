{
 "cells": [
  {
   "cell_type": "markdown",
   "id": "6d083b5c-40db-4ebf-8656-d9e1eb657f46",
   "metadata": {},
   "source": [
    "# Taichi\n",
    "\n",
    "A parallel programming language for numerical computation. Installed via\n",
    "\n",
    "    pip install taichi\n",
    "\n",
    "Taichi source code can be found [here](https://github.com/williamgilpin/cphy/issues/9). This notebook is adapted from code provided by [Liang Zhao](https://github.com/williamgilpin/cphy/issues/9)\n"
   ]
  },
  {
   "cell_type": "markdown",
   "id": "158986f8",
   "metadata": {},
   "source": [
    "## Preamble"
   ]
  },
  {
   "cell_type": "code",
   "execution_count": 1,
   "id": "2431e07c",
   "metadata": {},
   "outputs": [],
   "source": [
    "import numpy as np\n",
    "\n",
    "import numpy as np\n",
    "\n",
    "from IPython.display import Image, display\n",
    "\n",
    "# Import local plotting functions and in-notebook display functions\n",
    "import matplotlib.pyplot as plt\n",
    "%matplotlib inline\n"
   ]
  },
  {
   "cell_type": "markdown",
   "id": "259cb62b",
   "metadata": {},
   "source": [
    "## The Gray-Scott model in Taichi"
   ]
  },
  {
   "cell_type": "code",
   "execution_count": 4,
   "id": "baacd396-d0dc-4bc3-b780-aa9ebd1c1cb9",
   "metadata": {},
   "outputs": [
    {
     "name": "stdout",
     "output_type": "stream",
     "text": [
      "[Taichi] Starting on arch=x64\n"
     ]
    }
   ],
   "source": [
    "import taichi as ti\n",
    "import taichi.math as tm\n",
    "\n",
    "# ti.init(arch=ti.gpu)\n",
    "# ti.init(arch=ti.cpu)\n",
    "ti.init()\n",
    "\n",
    "# W, H = 800, 480\n",
    "W, H = 200, 120\n",
    "pixels = ti.Vector.field(3, ti.f32, shape=(W, H))\n",
    "Du, Dv, feed, kill = 0.160, 0.080, 0.060, 0.062\n",
    "#Du, Dv, feed, kill = 0.210, 0.105, 0.018, 0.051\n",
    "\n",
    "uv_grid = np.zeros((2, W, H, 2), dtype=np.float32)\n",
    "uv_grid[0, :, :, 0] = 1.0\n",
    "rand_rows = np.random.choice(range(W), 50)\n",
    "rand_cols = np.random.choice(range(H), 50)\n",
    "uv_grid[0, rand_rows, rand_cols, 1] = 1.0\n",
    "uv = ti.Vector.field(2, ti.f32, shape=(2, W, H))\n",
    "uv.from_numpy(uv_grid)\n",
    "\n",
    "palette = ti.Vector.field(4, ti.f32, shape=(5, ))\n",
    "#palette[0] = [0, 0, 0, 0]  # [0.0, 0.0, 0.0, 0.31372549]\n",
    "#palette[1] = [0, 1, 0, 0.2]  # [1.0, 0.1843, 0.53333333, 0.376470588]\n",
    "#palette[2] = [1.0, 1.0, 0.0, 0.2078431373]  # [0.854901961, 1.0, 0.5333333, 0.3882353]\n",
    "#palette[3] = [1, 0, 0, 0.4]  # [0.376471, 1.0, 0.47843, 0.39215686]\n",
    "#palette[4] = [1.0, 1.0, 1.0, 0.6]\n",
    "palette[0] = [0.0, 0.0, 0.0, 0.3137]\n",
    "palette[1] = [1.0, 0.1843, 0.53333, 0.37647]\n",
    "palette[2] = [0.8549, 1.0, 0.53333, 0.388]\n",
    "palette[3] = [0.376, 1.0, 0.478, 0.392]\n",
    "palette[4] = [1.0, 1.0, 1.0, 1]\n",
    "\n",
    "\n",
    "@ti.kernel\n",
    "def compute(phase: int):\n",
    "    for i, j in ti.ndrange(W, H):\n",
    "        cen = uv[phase, i, j]\n",
    "        lapl = uv[phase, i + 1, j] + uv[phase, i, j + 1] + uv[\n",
    "            phase, i - 1, j] + uv[phase, i, j - 1] - 4.0 * cen\n",
    "        du = Du * lapl[0] - cen[0] * cen[1] * cen[1] + feed * (1 - cen[0])\n",
    "        dv = Dv * lapl[1] + cen[0] * cen[1] * cen[1] - (feed + kill) * cen[1]\n",
    "        val = cen + 0.5 * tm.vec2(du, dv)\n",
    "        uv[1 - phase, i, j] = val\n",
    "\n",
    "\n",
    "## Taichi translates Python code into C++ code, and so we explicitly write out for loops,\n",
    "## rather than vectorizing the code.\n",
    "@ti.kernel\n",
    "def render():\n",
    "    for i, j in pixels:\n",
    "        value = uv[0, i, j].y\n",
    "        color = tm.vec3(0)\n",
    "        if value <= palette[0].w:\n",
    "            color = palette[0].xyz\n",
    "\n",
    "        for k in range(4):\n",
    "            c0 = palette[k]\n",
    "            c1 = palette[k + 1]\n",
    "            if c0.w < value < c1.w:\n",
    "                a = (value - c0.w) / (c1.w - c0.w)\n",
    "                color = tm.mix(c0.xyz, c1.xyz, a)\n",
    "\n",
    "        pixels[i, j] = color\n",
    "\n",
    "\n"
   ]
  },
  {
   "cell_type": "code",
   "execution_count": 17,
   "id": "b699de32-48db-4713-9d16-341a64c4e78e",
   "metadata": {},
   "outputs": [
    {
     "data": {
      "application/vnd.jupyter.widget-view+json": {
       "model_id": "2cb584f7f2b64d63a8702913b74addf7",
       "version_major": 2,
       "version_minor": 0
      },
      "text/plain": [
       "interactive(children=(IntSlider(value=0, description='i', layout=Layout(width='500px')), Output()), _dom_class…"
      ]
     },
     "metadata": {},
     "output_type": "display_data"
    },
    {
     "data": {
      "text/plain": [
       "<function __main__.plotter(i)>"
      ]
     },
     "execution_count": 17,
     "metadata": {},
     "output_type": "execute_result"
    }
   ],
   "source": [
    "## Make an interactive video\n",
    "from ipywidgets import interact, interactive, fixed, interact_manual, Layout\n",
    "import ipywidgets as widgets\n",
    "\n",
    "def plotter(i):\n",
    "    fig = plt.figure(figsize=(10, 10))\n",
    "    for _ in range(100):\n",
    "        compute(i % 2)\n",
    "        i += 1\n",
    "    render()\n",
    "    plt.imshow(pixels.to_numpy()[..., 0])\n",
    "    plt.show()\n",
    "\n",
    "\n",
    "\n",
    "interact(\n",
    "    plotter, \n",
    "    i=widgets.IntSlider(0, 0, 100, 1, layout=Layout(width='500px'))\n",
    ")"
   ]
  },
  {
   "cell_type": "code",
   "execution_count": null,
   "id": "744c933b-8a40-4d92-bff2-d5f22d4ad28d",
   "metadata": {},
   "outputs": [],
   "source": []
  },
  {
   "cell_type": "code",
   "execution_count": null,
   "id": "a7f8745e-a1bb-4381-a6fb-b00043e426be",
   "metadata": {},
   "outputs": [],
   "source": []
  },
  {
   "cell_type": "code",
   "execution_count": null,
   "id": "6ab8c1a6-b059-4c3e-8aad-a0cb7f7e1f2f",
   "metadata": {},
   "outputs": [],
   "source": []
  },
  {
   "cell_type": "code",
   "execution_count": null,
   "id": "530d859e-38ad-4fa5-9809-0914465aaa94",
   "metadata": {},
   "outputs": [],
   "source": []
  },
  {
   "cell_type": "code",
   "execution_count": null,
   "id": "2e699183-7568-486a-9141-841402472b34",
   "metadata": {},
   "outputs": [],
   "source": []
  },
  {
   "cell_type": "code",
   "execution_count": null,
   "id": "3a756be2-97fd-4eb0-96b6-c8e332ff9ba7",
   "metadata": {},
   "outputs": [],
   "source": []
  },
  {
   "cell_type": "code",
   "execution_count": null,
   "id": "2f14ecb3-571d-45ea-9176-50b5e6ce5e64",
   "metadata": {},
   "outputs": [],
   "source": []
  },
  {
   "cell_type": "code",
   "execution_count": null,
   "id": "54b38d3a-af8b-47df-9c90-fd0f2c986999",
   "metadata": {},
   "outputs": [],
   "source": []
  }
 ],
 "metadata": {
  "kernelspec": {
   "display_name": "Python 3.8.11 ('phys381')",
   "language": "python",
   "name": "python3"
  },
  "language_info": {
   "codemirror_mode": {
    "name": "ipython",
    "version": 3
   },
   "file_extension": ".py",
   "mimetype": "text/x-python",
   "name": "python",
   "nbconvert_exporter": "python",
   "pygments_lexer": "ipython3",
   "version": "3.8.11"
  },
  "vscode": {
   "interpreter": {
    "hash": "dd2d507358018fbaed212338faa319de6206d9a642fdbeff386a22163c5069f1"
   }
  }
 },
 "nbformat": 4,
 "nbformat_minor": 5
}
